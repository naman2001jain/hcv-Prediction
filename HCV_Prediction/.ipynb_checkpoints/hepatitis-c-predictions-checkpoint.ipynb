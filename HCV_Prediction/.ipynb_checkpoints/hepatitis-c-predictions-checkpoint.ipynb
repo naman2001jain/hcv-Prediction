{
 "cells": [
  {
   "cell_type": "markdown",
   "metadata": {},
   "source": [
    "# Predicting Hepatitis C 🩺"
   ]
  },
  {
   "cell_type": "markdown",
   "metadata": {},
   "source": [
    "#### If you like my work, It will be really great of you to upvote this notebook!\n",
    "#### If not then you leaving a comment on what do I need to work on and improve will be really helpful!"
   ]
  },
  {
   "cell_type": "markdown",
   "metadata": {},
   "source": [
    "## Importing Libraries"
   ]
  },
  {
   "cell_type": "code",
   "execution_count": 1,
   "metadata": {
    "_cell_guid": "b1076dfc-b9ad-4769-8c92-a6c4dae69d19",
    "_uuid": "8f2839f25d086af736a60e9eeb907d3b93b6e0e5",
    "execution": {
     "iopub.execute_input": "2021-09-25T11:33:51.073506Z",
     "iopub.status.busy": "2021-09-25T11:33:51.07295Z",
     "iopub.status.idle": "2021-09-25T11:33:52.222882Z",
     "shell.execute_reply": "2021-09-25T11:33:52.221592Z",
     "shell.execute_reply.started": "2021-09-25T11:33:51.07339Z"
    }
   },
   "outputs": [],
   "source": [
    "import pandas as pd\n",
    "import numpy as np\n",
    "import matplotlib.pyplot as plt\n",
    "import seaborn as sns\n",
    "import warnings\n",
    "warnings.simplefilter(\"ignore\")"
   ]
  },
  {
   "cell_type": "markdown",
   "metadata": {},
   "source": [
    "## Loading up the data"
   ]
  },
  {
   "cell_type": "code",
   "execution_count": 2,
   "metadata": {
    "execution": {
     "iopub.execute_input": "2021-09-25T11:33:52.225258Z",
     "iopub.status.busy": "2021-09-25T11:33:52.224883Z",
     "iopub.status.idle": "2021-09-25T11:33:52.29055Z",
     "shell.execute_reply": "2021-09-25T11:33:52.28917Z",
     "shell.execute_reply.started": "2021-09-25T11:33:52.225223Z"
    }
   },
   "outputs": [
    {
     "ename": "FileNotFoundError",
     "evalue": "[Errno 2] No such file or directory: '../input/hepatitis-c-dataset/HepatitisCdata.csv'",
     "output_type": "error",
     "traceback": [
      "\u001b[0;31m---------------------------------------------------------------------------\u001b[0m",
      "\u001b[0;31mFileNotFoundError\u001b[0m                         Traceback (most recent call last)",
      "\u001b[0;32m/var/folders/4s/bm8pmjkn20vbmrw1c03f94hw0000gn/T/ipykernel_20768/2842789447.py\u001b[0m in \u001b[0;36m<module>\u001b[0;34m\u001b[0m\n\u001b[0;32m----> 1\u001b[0;31m \u001b[0mdf\u001b[0m \u001b[0;34m=\u001b[0m \u001b[0mpd\u001b[0m\u001b[0;34m.\u001b[0m\u001b[0mread_csv\u001b[0m\u001b[0;34m(\u001b[0m\u001b[0;34m\"../input/hepatitis-c-dataset/HepatitisCdata.csv\"\u001b[0m\u001b[0;34m)\u001b[0m\u001b[0;34m\u001b[0m\u001b[0;34m\u001b[0m\u001b[0m\n\u001b[0m\u001b[1;32m      2\u001b[0m \u001b[0mdf\u001b[0m\u001b[0;34m.\u001b[0m\u001b[0mhead\u001b[0m\u001b[0;34m(\u001b[0m\u001b[0;34m)\u001b[0m\u001b[0;34m\u001b[0m\u001b[0;34m\u001b[0m\u001b[0m\n",
      "\u001b[0;32m/Library/Frameworks/Python.framework/Versions/3.9/lib/python3.9/site-packages/pandas/util/_decorators.py\u001b[0m in \u001b[0;36mwrapper\u001b[0;34m(*args, **kwargs)\u001b[0m\n\u001b[1;32m    309\u001b[0m                     \u001b[0mstacklevel\u001b[0m\u001b[0;34m=\u001b[0m\u001b[0mstacklevel\u001b[0m\u001b[0;34m,\u001b[0m\u001b[0;34m\u001b[0m\u001b[0;34m\u001b[0m\u001b[0m\n\u001b[1;32m    310\u001b[0m                 )\n\u001b[0;32m--> 311\u001b[0;31m             \u001b[0;32mreturn\u001b[0m \u001b[0mfunc\u001b[0m\u001b[0;34m(\u001b[0m\u001b[0;34m*\u001b[0m\u001b[0margs\u001b[0m\u001b[0;34m,\u001b[0m \u001b[0;34m**\u001b[0m\u001b[0mkwargs\u001b[0m\u001b[0;34m)\u001b[0m\u001b[0;34m\u001b[0m\u001b[0;34m\u001b[0m\u001b[0m\n\u001b[0m\u001b[1;32m    312\u001b[0m \u001b[0;34m\u001b[0m\u001b[0m\n\u001b[1;32m    313\u001b[0m         \u001b[0;32mreturn\u001b[0m \u001b[0mwrapper\u001b[0m\u001b[0;34m\u001b[0m\u001b[0;34m\u001b[0m\u001b[0m\n",
      "\u001b[0;32m/Library/Frameworks/Python.framework/Versions/3.9/lib/python3.9/site-packages/pandas/io/parsers/readers.py\u001b[0m in \u001b[0;36mread_csv\u001b[0;34m(filepath_or_buffer, sep, delimiter, header, names, index_col, usecols, squeeze, prefix, mangle_dupe_cols, dtype, engine, converters, true_values, false_values, skipinitialspace, skiprows, skipfooter, nrows, na_values, keep_default_na, na_filter, verbose, skip_blank_lines, parse_dates, infer_datetime_format, keep_date_col, date_parser, dayfirst, cache_dates, iterator, chunksize, compression, thousands, decimal, lineterminator, quotechar, quoting, doublequote, escapechar, comment, encoding, encoding_errors, dialect, error_bad_lines, warn_bad_lines, on_bad_lines, delim_whitespace, low_memory, memory_map, float_precision, storage_options)\u001b[0m\n\u001b[1;32m    678\u001b[0m     \u001b[0mkwds\u001b[0m\u001b[0;34m.\u001b[0m\u001b[0mupdate\u001b[0m\u001b[0;34m(\u001b[0m\u001b[0mkwds_defaults\u001b[0m\u001b[0;34m)\u001b[0m\u001b[0;34m\u001b[0m\u001b[0;34m\u001b[0m\u001b[0m\n\u001b[1;32m    679\u001b[0m \u001b[0;34m\u001b[0m\u001b[0m\n\u001b[0;32m--> 680\u001b[0;31m     \u001b[0;32mreturn\u001b[0m \u001b[0m_read\u001b[0m\u001b[0;34m(\u001b[0m\u001b[0mfilepath_or_buffer\u001b[0m\u001b[0;34m,\u001b[0m \u001b[0mkwds\u001b[0m\u001b[0;34m)\u001b[0m\u001b[0;34m\u001b[0m\u001b[0;34m\u001b[0m\u001b[0m\n\u001b[0m\u001b[1;32m    681\u001b[0m \u001b[0;34m\u001b[0m\u001b[0m\n\u001b[1;32m    682\u001b[0m \u001b[0;34m\u001b[0m\u001b[0m\n",
      "\u001b[0;32m/Library/Frameworks/Python.framework/Versions/3.9/lib/python3.9/site-packages/pandas/io/parsers/readers.py\u001b[0m in \u001b[0;36m_read\u001b[0;34m(filepath_or_buffer, kwds)\u001b[0m\n\u001b[1;32m    573\u001b[0m \u001b[0;34m\u001b[0m\u001b[0m\n\u001b[1;32m    574\u001b[0m     \u001b[0;31m# Create the parser.\u001b[0m\u001b[0;34m\u001b[0m\u001b[0;34m\u001b[0m\u001b[0m\n\u001b[0;32m--> 575\u001b[0;31m     \u001b[0mparser\u001b[0m \u001b[0;34m=\u001b[0m \u001b[0mTextFileReader\u001b[0m\u001b[0;34m(\u001b[0m\u001b[0mfilepath_or_buffer\u001b[0m\u001b[0;34m,\u001b[0m \u001b[0;34m**\u001b[0m\u001b[0mkwds\u001b[0m\u001b[0;34m)\u001b[0m\u001b[0;34m\u001b[0m\u001b[0;34m\u001b[0m\u001b[0m\n\u001b[0m\u001b[1;32m    576\u001b[0m \u001b[0;34m\u001b[0m\u001b[0m\n\u001b[1;32m    577\u001b[0m     \u001b[0;32mif\u001b[0m \u001b[0mchunksize\u001b[0m \u001b[0;32mor\u001b[0m \u001b[0miterator\u001b[0m\u001b[0;34m:\u001b[0m\u001b[0;34m\u001b[0m\u001b[0;34m\u001b[0m\u001b[0m\n",
      "\u001b[0;32m/Library/Frameworks/Python.framework/Versions/3.9/lib/python3.9/site-packages/pandas/io/parsers/readers.py\u001b[0m in \u001b[0;36m__init__\u001b[0;34m(self, f, engine, **kwds)\u001b[0m\n\u001b[1;32m    931\u001b[0m \u001b[0;34m\u001b[0m\u001b[0m\n\u001b[1;32m    932\u001b[0m         \u001b[0mself\u001b[0m\u001b[0;34m.\u001b[0m\u001b[0mhandles\u001b[0m\u001b[0;34m:\u001b[0m \u001b[0mIOHandles\u001b[0m \u001b[0;34m|\u001b[0m \u001b[0;32mNone\u001b[0m \u001b[0;34m=\u001b[0m \u001b[0;32mNone\u001b[0m\u001b[0;34m\u001b[0m\u001b[0;34m\u001b[0m\u001b[0m\n\u001b[0;32m--> 933\u001b[0;31m         \u001b[0mself\u001b[0m\u001b[0;34m.\u001b[0m\u001b[0m_engine\u001b[0m \u001b[0;34m=\u001b[0m \u001b[0mself\u001b[0m\u001b[0;34m.\u001b[0m\u001b[0m_make_engine\u001b[0m\u001b[0;34m(\u001b[0m\u001b[0mf\u001b[0m\u001b[0;34m,\u001b[0m \u001b[0mself\u001b[0m\u001b[0;34m.\u001b[0m\u001b[0mengine\u001b[0m\u001b[0;34m)\u001b[0m\u001b[0;34m\u001b[0m\u001b[0;34m\u001b[0m\u001b[0m\n\u001b[0m\u001b[1;32m    934\u001b[0m \u001b[0;34m\u001b[0m\u001b[0m\n\u001b[1;32m    935\u001b[0m     \u001b[0;32mdef\u001b[0m \u001b[0mclose\u001b[0m\u001b[0;34m(\u001b[0m\u001b[0mself\u001b[0m\u001b[0;34m)\u001b[0m\u001b[0;34m:\u001b[0m\u001b[0;34m\u001b[0m\u001b[0;34m\u001b[0m\u001b[0m\n",
      "\u001b[0;32m/Library/Frameworks/Python.framework/Versions/3.9/lib/python3.9/site-packages/pandas/io/parsers/readers.py\u001b[0m in \u001b[0;36m_make_engine\u001b[0;34m(self, f, engine)\u001b[0m\n\u001b[1;32m   1215\u001b[0m             \u001b[0;31m# \"Union[str, PathLike[str], ReadCsvBuffer[bytes], ReadCsvBuffer[str]]\"\u001b[0m\u001b[0;34m\u001b[0m\u001b[0;34m\u001b[0m\u001b[0m\n\u001b[1;32m   1216\u001b[0m             \u001b[0;31m# , \"str\", \"bool\", \"Any\", \"Any\", \"Any\", \"Any\", \"Any\"\u001b[0m\u001b[0;34m\u001b[0m\u001b[0;34m\u001b[0m\u001b[0m\n\u001b[0;32m-> 1217\u001b[0;31m             self.handles = get_handle(  # type: ignore[call-overload]\n\u001b[0m\u001b[1;32m   1218\u001b[0m                 \u001b[0mf\u001b[0m\u001b[0;34m,\u001b[0m\u001b[0;34m\u001b[0m\u001b[0;34m\u001b[0m\u001b[0m\n\u001b[1;32m   1219\u001b[0m                 \u001b[0mmode\u001b[0m\u001b[0;34m,\u001b[0m\u001b[0;34m\u001b[0m\u001b[0;34m\u001b[0m\u001b[0m\n",
      "\u001b[0;32m/Library/Frameworks/Python.framework/Versions/3.9/lib/python3.9/site-packages/pandas/io/common.py\u001b[0m in \u001b[0;36mget_handle\u001b[0;34m(path_or_buf, mode, encoding, compression, memory_map, is_text, errors, storage_options)\u001b[0m\n\u001b[1;32m    787\u001b[0m         \u001b[0;32mif\u001b[0m \u001b[0mioargs\u001b[0m\u001b[0;34m.\u001b[0m\u001b[0mencoding\u001b[0m \u001b[0;32mand\u001b[0m \u001b[0;34m\"b\"\u001b[0m \u001b[0;32mnot\u001b[0m \u001b[0;32min\u001b[0m \u001b[0mioargs\u001b[0m\u001b[0;34m.\u001b[0m\u001b[0mmode\u001b[0m\u001b[0;34m:\u001b[0m\u001b[0;34m\u001b[0m\u001b[0;34m\u001b[0m\u001b[0m\n\u001b[1;32m    788\u001b[0m             \u001b[0;31m# Encoding\u001b[0m\u001b[0;34m\u001b[0m\u001b[0;34m\u001b[0m\u001b[0m\n\u001b[0;32m--> 789\u001b[0;31m             handle = open(\n\u001b[0m\u001b[1;32m    790\u001b[0m                 \u001b[0mhandle\u001b[0m\u001b[0;34m,\u001b[0m\u001b[0;34m\u001b[0m\u001b[0;34m\u001b[0m\u001b[0m\n\u001b[1;32m    791\u001b[0m                 \u001b[0mioargs\u001b[0m\u001b[0;34m.\u001b[0m\u001b[0mmode\u001b[0m\u001b[0;34m,\u001b[0m\u001b[0;34m\u001b[0m\u001b[0;34m\u001b[0m\u001b[0m\n",
      "\u001b[0;31mFileNotFoundError\u001b[0m: [Errno 2] No such file or directory: '../input/hepatitis-c-dataset/HepatitisCdata.csv'"
     ]
    }
   ],
   "source": [
    "df = pd.read_csv(\"../input/hepatitis-c-dataset/HepatitisCdata.csv\")\n",
    "df.head()"
   ]
  },
  {
   "cell_type": "code",
   "execution_count": null,
   "metadata": {
    "execution": {
     "iopub.execute_input": "2021-09-25T11:33:52.293408Z",
     "iopub.status.busy": "2021-09-25T11:33:52.293046Z",
     "iopub.status.idle": "2021-09-25T11:33:52.302864Z",
     "shell.execute_reply": "2021-09-25T11:33:52.300881Z",
     "shell.execute_reply.started": "2021-09-25T11:33:52.293373Z"
    }
   },
   "outputs": [],
   "source": [
    "df.drop(\"Unnamed: 0\", axis=1, inplace=True)"
   ]
  },
  {
   "cell_type": "code",
   "execution_count": null,
   "metadata": {
    "execution": {
     "iopub.execute_input": "2021-09-25T11:33:52.306588Z",
     "iopub.status.busy": "2021-09-25T11:33:52.305923Z",
     "iopub.status.idle": "2021-09-25T11:33:52.322254Z",
     "shell.execute_reply": "2021-09-25T11:33:52.321086Z",
     "shell.execute_reply.started": "2021-09-25T11:33:52.306529Z"
    }
   },
   "outputs": [],
   "source": [
    "df.dtypes"
   ]
  },
  {
   "cell_type": "code",
   "execution_count": null,
   "metadata": {
    "execution": {
     "iopub.execute_input": "2021-09-25T11:33:52.324265Z",
     "iopub.status.busy": "2021-09-25T11:33:52.32393Z",
     "iopub.status.idle": "2021-09-25T11:33:52.342968Z",
     "shell.execute_reply": "2021-09-25T11:33:52.341576Z",
     "shell.execute_reply.started": "2021-09-25T11:33:52.324235Z"
    }
   },
   "outputs": [],
   "source": [
    "df.Category.unique()"
   ]
  },
  {
   "cell_type": "code",
   "execution_count": null,
   "metadata": {
    "execution": {
     "iopub.execute_input": "2021-09-25T11:33:52.346025Z",
     "iopub.status.busy": "2021-09-25T11:33:52.345415Z",
     "iopub.status.idle": "2021-09-25T11:33:52.357035Z",
     "shell.execute_reply": "2021-09-25T11:33:52.355434Z",
     "shell.execute_reply.started": "2021-09-25T11:33:52.345901Z"
    }
   },
   "outputs": [],
   "source": [
    "# Mapping numeric values\n",
    "\n",
    "df['Category'] = df['Category'].map({'0=Blood Donor': 0, '0s=suspect Blood Donor': 0, \n",
    "                                     \"1=Hepatitis\" : 1, \"2=Fibrosis\" : 1, \"3=Cirrhosis\" : 1})\n",
    "\n",
    "df['Sex'] = df['Sex'].map({'m': 1, 'f': 2})"
   ]
  },
  {
   "cell_type": "code",
   "execution_count": null,
   "metadata": {
    "execution": {
     "iopub.execute_input": "2021-09-25T11:33:52.360225Z",
     "iopub.status.busy": "2021-09-25T11:33:52.359575Z",
     "iopub.status.idle": "2021-09-25T11:33:52.390325Z",
     "shell.execute_reply": "2021-09-25T11:33:52.387972Z",
     "shell.execute_reply.started": "2021-09-25T11:33:52.36017Z"
    }
   },
   "outputs": [],
   "source": [
    "df.head()"
   ]
  },
  {
   "cell_type": "code",
   "execution_count": null,
   "metadata": {
    "execution": {
     "iopub.execute_input": "2021-09-25T11:33:52.392637Z",
     "iopub.status.busy": "2021-09-25T11:33:52.392171Z",
     "iopub.status.idle": "2021-09-25T11:33:52.406055Z",
     "shell.execute_reply": "2021-09-25T11:33:52.405036Z",
     "shell.execute_reply.started": "2021-09-25T11:33:52.39259Z"
    }
   },
   "outputs": [],
   "source": [
    "# Checking the data types again after the transformation\n",
    "df.dtypes"
   ]
  },
  {
   "cell_type": "code",
   "execution_count": null,
   "metadata": {
    "execution": {
     "iopub.execute_input": "2021-09-25T11:33:52.410252Z",
     "iopub.status.busy": "2021-09-25T11:33:52.409681Z",
     "iopub.status.idle": "2021-09-25T11:33:52.424968Z",
     "shell.execute_reply": "2021-09-25T11:33:52.423503Z",
     "shell.execute_reply.started": "2021-09-25T11:33:52.410213Z"
    }
   },
   "outputs": [],
   "source": [
    "# Checking for missing values in the dataset\n",
    "df.isna().sum()"
   ]
  },
  {
   "cell_type": "code",
   "execution_count": null,
   "metadata": {
    "execution": {
     "iopub.execute_input": "2021-09-25T11:33:52.428141Z",
     "iopub.status.busy": "2021-09-25T11:33:52.427668Z",
     "iopub.status.idle": "2021-09-25T11:33:52.444304Z",
     "shell.execute_reply": "2021-09-25T11:33:52.442843Z",
     "shell.execute_reply.started": "2021-09-25T11:33:52.428093Z"
    }
   },
   "outputs": [],
   "source": [
    "# Filling missing values with the median\n",
    "df.fillna(df.median(), inplace=True)"
   ]
  },
  {
   "cell_type": "code",
   "execution_count": null,
   "metadata": {
    "execution": {
     "iopub.execute_input": "2021-09-25T11:33:52.446149Z",
     "iopub.status.busy": "2021-09-25T11:33:52.445812Z",
     "iopub.status.idle": "2021-09-25T11:33:52.46438Z",
     "shell.execute_reply": "2021-09-25T11:33:52.463264Z",
     "shell.execute_reply.started": "2021-09-25T11:33:52.446119Z"
    }
   },
   "outputs": [],
   "source": [
    "df.isna().sum()"
   ]
  },
  {
   "cell_type": "code",
   "execution_count": null,
   "metadata": {
    "execution": {
     "iopub.execute_input": "2021-09-25T11:33:52.466654Z",
     "iopub.status.busy": "2021-09-25T11:33:52.466011Z",
     "iopub.status.idle": "2021-09-25T11:33:53.550636Z",
     "shell.execute_reply": "2021-09-25T11:33:53.549812Z",
     "shell.execute_reply.started": "2021-09-25T11:33:52.466603Z"
    }
   },
   "outputs": [],
   "source": [
    "# Having a look at the correlation matrix\n",
    "\n",
    "fig, ax = plt.subplots(figsize=(10,8))\n",
    "sns.heatmap(df.corr(), annot=True, fmt='.1g', cmap=\"Blues_r\", cbar=False, linewidths=0.5, linecolor='grey');"
   ]
  },
  {
   "cell_type": "code",
   "execution_count": null,
   "metadata": {
    "execution": {
     "iopub.execute_input": "2021-09-25T11:33:53.552232Z",
     "iopub.status.busy": "2021-09-25T11:33:53.551836Z",
     "iopub.status.idle": "2021-09-25T11:33:53.562905Z",
     "shell.execute_reply": "2021-09-25T11:33:53.562008Z",
     "shell.execute_reply.started": "2021-09-25T11:33:53.552202Z"
    }
   },
   "outputs": [],
   "source": [
    "print ('Total Suspected Patients : {} '.format(df.Category.value_counts()[0]))\n",
    "print ('Total Healthy Patients : {} '.format(df.Category.value_counts()[1]))"
   ]
  },
  {
   "cell_type": "code",
   "execution_count": null,
   "metadata": {
    "_kg_hide-input": true,
    "execution": {
     "iopub.execute_input": "2021-09-25T11:33:53.564901Z",
     "iopub.status.busy": "2021-09-25T11:33:53.564437Z",
     "iopub.status.idle": "2021-09-25T11:33:53.709942Z",
     "shell.execute_reply": "2021-09-25T11:33:53.709087Z",
     "shell.execute_reply.started": "2021-09-25T11:33:53.564855Z"
    }
   },
   "outputs": [],
   "source": [
    "fig, ax = plt.subplots(figsize=(8,8))\n",
    "\n",
    "plt.pie(x=df[\"Category\"].value_counts(), \n",
    "        colors=[\"firebrick\",\"seagreen\"], \n",
    "        labels=[\"Suspected Patients\",\"Healthy Patients\"], \n",
    "        shadow = True, \n",
    "        explode = (0, 0.1)\n",
    "        )\n",
    "\n",
    "plt.show()"
   ]
  },
  {
   "cell_type": "code",
   "execution_count": null,
   "metadata": {
    "execution": {
     "iopub.execute_input": "2021-09-25T11:33:53.711632Z",
     "iopub.status.busy": "2021-09-25T11:33:53.711121Z",
     "iopub.status.idle": "2021-09-25T11:33:53.71909Z",
     "shell.execute_reply": "2021-09-25T11:33:53.717938Z",
     "shell.execute_reply.started": "2021-09-25T11:33:53.711585Z"
    }
   },
   "outputs": [],
   "source": [
    "df.Sex.value_counts()"
   ]
  },
  {
   "cell_type": "code",
   "execution_count": null,
   "metadata": {
    "_kg_hide-input": true,
    "execution": {
     "iopub.execute_input": "2021-09-25T11:33:53.721443Z",
     "iopub.status.busy": "2021-09-25T11:33:53.720912Z",
     "iopub.status.idle": "2021-09-25T11:33:53.845157Z",
     "shell.execute_reply": "2021-09-25T11:33:53.843947Z",
     "shell.execute_reply.started": "2021-09-25T11:33:53.721409Z"
    }
   },
   "outputs": [],
   "source": [
    "fig, ax = plt.subplots(figsize=(8,8))\n",
    "plt.pie(x=df[\"Sex\"].value_counts(), \n",
    "        colors=[\"skyblue\",\"pink\"], \n",
    "        labels=[\"Male\",\"Female\"], \n",
    "        shadow = True, \n",
    "        autopct=\"%1.2f%%\", \n",
    "        explode = (0, 0.1)\n",
    "        )\n",
    "plt.show()"
   ]
  },
  {
   "cell_type": "code",
   "execution_count": null,
   "metadata": {
    "_kg_hide-input": true,
    "execution": {
     "iopub.execute_input": "2021-09-25T11:33:53.847181Z",
     "iopub.status.busy": "2021-09-25T11:33:53.846847Z",
     "iopub.status.idle": "2021-09-25T11:34:00.665728Z",
     "shell.execute_reply": "2021-09-25T11:34:00.664458Z",
     "shell.execute_reply.started": "2021-09-25T11:33:53.84715Z"
    }
   },
   "outputs": [],
   "source": [
    "fig, ax =plt.subplots(5,2, figsize=(20,25)) \n",
    "plt.style.use(\"classic\")\n",
    "\n",
    "\n",
    "sns.histplot(x = df[\"Age\"], hue = df[\"Category\"], palette=\"viridis\", kde=True, ax=ax[0,0]);\n",
    "ax[0,0].set_xlabel(\"Age\",fontsize=15)\n",
    "\n",
    "sns.histplot(x = df[\"ALB\"], hue = df[\"Category\"], palette=\"viridis\", kde=True, ax=ax[0,1]);\n",
    "ax[0,1].set_xlabel(\"ALB\",fontsize=15)\n",
    "\n",
    "\n",
    "sns.histplot(x = df[\"ALP\"], hue = df[\"Category\"], palette=\"dark\", kde=True, ax=ax[1,0]);\n",
    "ax[1,0].set_xlabel(\"ALP\",fontsize=15)\n",
    "\n",
    "sns.histplot(x = df[\"ALT\"], hue = df[\"Category\"], palette=\"dark\", kde=True, ax=ax[1,1]);\n",
    "ax[1,1].set_xlabel(\"ALT\",fontsize=15)\n",
    "\n",
    "\n",
    "sns.histplot(x = df[\"AST\"], hue = df[\"Category\"], palette=\"flare\", kde=True, ax=ax[2,0]);\n",
    "ax[2,0].set_xlabel(\"AST\",fontsize=15)\n",
    "\n",
    "sns.histplot(x = df[\"BIL\"], hue = df[\"Category\"], palette=\"flare\", kde=True, ax=ax[2,1]);\n",
    "ax[2,1].set_xlabel(\"BIL\",fontsize=15)\n",
    "\n",
    "\n",
    "sns.histplot(x = df[\"CHE\"], hue = df[\"Category\"], palette=\"viridis\", kde=True, ax=ax[3,0]);\n",
    "ax[3,0].set_xlabel(\"CHE\",fontsize=15)\n",
    "\n",
    "sns.histplot(x = df[\"CHOL\"], hue = df[\"Category\"], palette=\"viridis\", kde=True, ax=ax[3,1]);\n",
    "ax[3,1].set_xlabel(\"CHOL\",fontsize=15);\n",
    "\n",
    "\n",
    "sns.histplot(x = df[\"CREA\"], hue = df[\"Category\"], palette=\"dark\", kde=True, ax=ax[4,0]);\n",
    "ax[4,0].set_xlabel(\"CREA\",fontsize=15)\n",
    "\n",
    "sns.histplot(x = df[\"GGT\"], hue = df[\"Category\"], palette=\"dark\", kde=True, ax=ax[4,1]);\n",
    "ax[4,1].set_xlabel(\"GGT\",fontsize=15);"
   ]
  },
  {
   "cell_type": "markdown",
   "metadata": {},
   "source": [
    "## Splitting the data into training and test datasets\n",
    "Here, we are trying to predict whether the patient has Hepatitis C or not using the given data. Hence, the `Category` will be the y label and rest of the data will be the X or the input data."
   ]
  },
  {
   "cell_type": "code",
   "execution_count": null,
   "metadata": {
    "execution": {
     "iopub.execute_input": "2021-09-25T11:34:00.667773Z",
     "iopub.status.busy": "2021-09-25T11:34:00.66743Z",
     "iopub.status.idle": "2021-09-25T11:34:00.697543Z",
     "shell.execute_reply": "2021-09-25T11:34:00.695988Z",
     "shell.execute_reply.started": "2021-09-25T11:34:00.667738Z"
    }
   },
   "outputs": [],
   "source": [
    "# X data\n",
    "X = df.drop(\"Category\", axis=1)\n",
    "X.head()"
   ]
  },
  {
   "cell_type": "code",
   "execution_count": null,
   "metadata": {
    "execution": {
     "iopub.execute_input": "2021-09-25T11:34:00.702266Z",
     "iopub.status.busy": "2021-09-25T11:34:00.701913Z",
     "iopub.status.idle": "2021-09-25T11:34:00.711837Z",
     "shell.execute_reply": "2021-09-25T11:34:00.710519Z",
     "shell.execute_reply.started": "2021-09-25T11:34:00.702235Z"
    }
   },
   "outputs": [],
   "source": [
    "# y data\n",
    "y = df[\"Category\"]\n",
    "y.head()"
   ]
  },
  {
   "cell_type": "code",
   "execution_count": null,
   "metadata": {
    "execution": {
     "iopub.execute_input": "2021-09-25T11:34:00.714422Z",
     "iopub.status.busy": "2021-09-25T11:34:00.714093Z",
     "iopub.status.idle": "2021-09-25T11:34:00.933811Z",
     "shell.execute_reply": "2021-09-25T11:34:00.932252Z",
     "shell.execute_reply.started": "2021-09-25T11:34:00.71439Z"
    }
   },
   "outputs": [],
   "source": [
    "from sklearn.model_selection import train_test_split\n",
    "X_train, X_test, y_train, y_test = train_test_split(X, y, test_size=0.2, random_state=42)"
   ]
  },
  {
   "cell_type": "code",
   "execution_count": null,
   "metadata": {
    "execution": {
     "iopub.execute_input": "2021-09-25T11:34:00.938641Z",
     "iopub.status.busy": "2021-09-25T11:34:00.93817Z",
     "iopub.status.idle": "2021-09-25T11:34:00.947265Z",
     "shell.execute_reply": "2021-09-25T11:34:00.945666Z",
     "shell.execute_reply.started": "2021-09-25T11:34:00.938602Z"
    }
   },
   "outputs": [],
   "source": [
    "len(X_train), len(X_test)"
   ]
  },
  {
   "cell_type": "code",
   "execution_count": null,
   "metadata": {
    "execution": {
     "iopub.execute_input": "2021-09-25T11:34:00.950338Z",
     "iopub.status.busy": "2021-09-25T11:34:00.949741Z",
     "iopub.status.idle": "2021-09-25T11:34:00.96984Z",
     "shell.execute_reply": "2021-09-25T11:34:00.9683Z",
     "shell.execute_reply.started": "2021-09-25T11:34:00.950214Z"
    }
   },
   "outputs": [],
   "source": [
    "# Scaling the data \n",
    "\n",
    "from sklearn.preprocessing import StandardScaler\n",
    "scaler = StandardScaler()\n",
    "X_train = scaler.fit_transform(X_train)\n",
    "X_test = scaler.transform(X_test)"
   ]
  },
  {
   "cell_type": "markdown",
   "metadata": {},
   "source": [
    "## LogisticRegression"
   ]
  },
  {
   "cell_type": "code",
   "execution_count": null,
   "metadata": {
    "execution": {
     "iopub.execute_input": "2021-09-25T11:34:00.971685Z",
     "iopub.status.busy": "2021-09-25T11:34:00.971089Z",
     "iopub.status.idle": "2021-09-25T11:34:01.098647Z",
     "shell.execute_reply": "2021-09-25T11:34:01.097359Z",
     "shell.execute_reply.started": "2021-09-25T11:34:00.971612Z"
    }
   },
   "outputs": [],
   "source": [
    "from sklearn.linear_model import LogisticRegression\n",
    "lr = LogisticRegression()\n",
    "lr.fit(X_train, y_train)"
   ]
  },
  {
   "cell_type": "code",
   "execution_count": null,
   "metadata": {
    "execution": {
     "iopub.execute_input": "2021-09-25T11:34:01.101045Z",
     "iopub.status.busy": "2021-09-25T11:34:01.100628Z",
     "iopub.status.idle": "2021-09-25T11:34:01.1094Z",
     "shell.execute_reply": "2021-09-25T11:34:01.107739Z",
     "shell.execute_reply.started": "2021-09-25T11:34:01.101009Z"
    }
   },
   "outputs": [],
   "source": [
    "LogisticRegressionScore = lr.score(X_test, y_test)\n",
    "print(\"Accuracy obtained by Logistic Regression model:\",LogisticRegressionScore*100)"
   ]
  },
  {
   "cell_type": "code",
   "execution_count": null,
   "metadata": {
    "execution": {
     "iopub.execute_input": "2021-09-25T11:34:01.111574Z",
     "iopub.status.busy": "2021-09-25T11:34:01.111146Z",
     "iopub.status.idle": "2021-09-25T11:34:01.424675Z",
     "shell.execute_reply": "2021-09-25T11:34:01.42329Z",
     "shell.execute_reply.started": "2021-09-25T11:34:01.111535Z"
    }
   },
   "outputs": [],
   "source": [
    "# Having a look at the confusion matrix for Logistic Regression\n",
    "\n",
    "from sklearn.metrics import confusion_matrix, classification_report\n",
    "sns.set_style(\"white\")\n",
    "y_pred_lr = lr.predict(X_test)\n",
    "cf_matrix = confusion_matrix(y_test, y_pred_lr)\n",
    "sns.heatmap(cf_matrix, annot=True, cmap=\"Blues_r\")\n",
    "plt.title(\"Confusion Matrix for Logistic Regression\", fontsize=14, fontname=\"Helvetica\", y=1.03);"
   ]
  },
  {
   "cell_type": "code",
   "execution_count": null,
   "metadata": {
    "execution": {
     "iopub.execute_input": "2021-09-25T11:34:01.426536Z",
     "iopub.status.busy": "2021-09-25T11:34:01.426187Z",
     "iopub.status.idle": "2021-09-25T11:34:01.439785Z",
     "shell.execute_reply": "2021-09-25T11:34:01.438411Z",
     "shell.execute_reply.started": "2021-09-25T11:34:01.426504Z"
    }
   },
   "outputs": [],
   "source": [
    "# Having a look at the classification report of Logistic Regression\n",
    "\n",
    "from sklearn import metrics\n",
    "print(metrics.classification_report(y_test, y_pred_lr))"
   ]
  },
  {
   "cell_type": "markdown",
   "metadata": {},
   "source": [
    "## Random Forest Classifier"
   ]
  },
  {
   "cell_type": "code",
   "execution_count": null,
   "metadata": {
    "execution": {
     "iopub.execute_input": "2021-09-25T11:34:01.445942Z",
     "iopub.status.busy": "2021-09-25T11:34:01.445531Z",
     "iopub.status.idle": "2021-09-25T11:34:01.823841Z",
     "shell.execute_reply": "2021-09-25T11:34:01.822798Z",
     "shell.execute_reply.started": "2021-09-25T11:34:01.445906Z"
    }
   },
   "outputs": [],
   "source": [
    "from sklearn.ensemble import RandomForestClassifier\n",
    "rfc = RandomForestClassifier()\n",
    "rfc.fit(X_train, y_train)"
   ]
  },
  {
   "cell_type": "code",
   "execution_count": null,
   "metadata": {
    "execution": {
     "iopub.execute_input": "2021-09-25T11:34:01.826231Z",
     "iopub.status.busy": "2021-09-25T11:34:01.825896Z",
     "iopub.status.idle": "2021-09-25T11:34:01.847512Z",
     "shell.execute_reply": "2021-09-25T11:34:01.846027Z",
     "shell.execute_reply.started": "2021-09-25T11:34:01.826191Z"
    }
   },
   "outputs": [],
   "source": [
    "RandomForestClassifierScore = rfc.score(X_test,y_test)\n",
    "print(\"Accacy obtained by Random Forest Classifier :\", RandomForestClassifierScore*100)"
   ]
  },
  {
   "cell_type": "code",
   "execution_count": null,
   "metadata": {
    "execution": {
     "iopub.execute_input": "2021-09-25T11:34:01.849587Z",
     "iopub.status.busy": "2021-09-25T11:34:01.849225Z",
     "iopub.status.idle": "2021-09-25T11:34:02.149602Z",
     "shell.execute_reply": "2021-09-25T11:34:02.148318Z",
     "shell.execute_reply.started": "2021-09-25T11:34:01.849554Z"
    }
   },
   "outputs": [],
   "source": [
    "# Confusion Matrix of Random Forest Classifier\n",
    "\n",
    "y_pred_rfc = rfc.predict(X_test)\n",
    "cf_matrix = confusion_matrix(y_test, y_pred_rfc)\n",
    "sns.heatmap(cf_matrix, annot=True, cmap=\"Blues_r\")\n",
    "plt.title(\"Confusion Matrix for Random Forest Classifier\", fontsize=14, fontname=\"Helvetica\", y=1.03);"
   ]
  },
  {
   "cell_type": "code",
   "execution_count": null,
   "metadata": {
    "execution": {
     "iopub.execute_input": "2021-09-25T11:34:02.151566Z",
     "iopub.status.busy": "2021-09-25T11:34:02.151201Z",
     "iopub.status.idle": "2021-09-25T11:34:02.164119Z",
     "shell.execute_reply": "2021-09-25T11:34:02.162982Z",
     "shell.execute_reply.started": "2021-09-25T11:34:02.151528Z"
    }
   },
   "outputs": [],
   "source": [
    "print(metrics.classification_report(y_test, y_pred_rfc))"
   ]
  },
  {
   "cell_type": "markdown",
   "metadata": {},
   "source": [
    "## K Neighbors Classifier"
   ]
  },
  {
   "cell_type": "code",
   "execution_count": null,
   "metadata": {
    "execution": {
     "iopub.execute_input": "2021-09-25T11:34:02.166247Z",
     "iopub.status.busy": "2021-09-25T11:34:02.165835Z",
     "iopub.status.idle": "2021-09-25T11:34:02.177454Z",
     "shell.execute_reply": "2021-09-25T11:34:02.175867Z",
     "shell.execute_reply.started": "2021-09-25T11:34:02.166212Z"
    }
   },
   "outputs": [],
   "source": [
    "from sklearn.neighbors import KNeighborsClassifier\n",
    "knn = KNeighborsClassifier()\n",
    "knn.fit(X_train, y_train)"
   ]
  },
  {
   "cell_type": "code",
   "execution_count": null,
   "metadata": {
    "execution": {
     "iopub.execute_input": "2021-09-25T11:34:02.179367Z",
     "iopub.status.busy": "2021-09-25T11:34:02.178783Z",
     "iopub.status.idle": "2021-09-25T11:34:02.197196Z",
     "shell.execute_reply": "2021-09-25T11:34:02.196049Z",
     "shell.execute_reply.started": "2021-09-25T11:34:02.179318Z"
    }
   },
   "outputs": [],
   "source": [
    "KNeighborsClassifierScore = knn.score(X_test, y_test)\n",
    "print(\"Accuracy obtained by K Neighbors Classifier :\", KNeighborsClassifierScore*100)"
   ]
  },
  {
   "cell_type": "code",
   "execution_count": null,
   "metadata": {
    "execution": {
     "iopub.execute_input": "2021-09-25T11:34:02.199132Z",
     "iopub.status.busy": "2021-09-25T11:34:02.198711Z",
     "iopub.status.idle": "2021-09-25T11:34:02.669705Z",
     "shell.execute_reply": "2021-09-25T11:34:02.668783Z",
     "shell.execute_reply.started": "2021-09-25T11:34:02.19909Z"
    }
   },
   "outputs": [],
   "source": [
    "# Confustion Matrix \n",
    "\n",
    "y_pred_knn = knn.predict(X_test)\n",
    "cf_matrix = confusion_matrix(y_test, y_pred_knn)\n",
    "sns.heatmap(cf_matrix, annot=True, cmap=\"Blues_r\")\n",
    "plt.title(\"Confusion Matrix for K Neighbors Classifier\", fontsize=14, fontname=\"Helvetica\", y=1.03);"
   ]
  },
  {
   "cell_type": "code",
   "execution_count": null,
   "metadata": {
    "execution": {
     "iopub.execute_input": "2021-09-25T11:34:02.671818Z",
     "iopub.status.busy": "2021-09-25T11:34:02.671173Z",
     "iopub.status.idle": "2021-09-25T11:34:02.683809Z",
     "shell.execute_reply": "2021-09-25T11:34:02.682351Z",
     "shell.execute_reply.started": "2021-09-25T11:34:02.67177Z"
    }
   },
   "outputs": [],
   "source": [
    "print(metrics.classification_report(y_test,y_pred_knn))"
   ]
  },
  {
   "cell_type": "markdown",
   "metadata": {},
   "source": [
    "## DecisionTreeClassifier"
   ]
  },
  {
   "cell_type": "code",
   "execution_count": null,
   "metadata": {
    "execution": {
     "iopub.execute_input": "2021-09-25T11:34:02.686707Z",
     "iopub.status.busy": "2021-09-25T11:34:02.685782Z",
     "iopub.status.idle": "2021-09-25T11:34:02.700791Z",
     "shell.execute_reply": "2021-09-25T11:34:02.69936Z",
     "shell.execute_reply.started": "2021-09-25T11:34:02.686653Z"
    }
   },
   "outputs": [],
   "source": [
    "from sklearn.tree import DecisionTreeClassifier\n",
    "tree = DecisionTreeClassifier()\n",
    "tree.fit(X_train, y_train)"
   ]
  },
  {
   "cell_type": "code",
   "execution_count": null,
   "metadata": {
    "execution": {
     "iopub.execute_input": "2021-09-25T11:34:02.702882Z",
     "iopub.status.busy": "2021-09-25T11:34:02.702384Z",
     "iopub.status.idle": "2021-09-25T11:34:02.711996Z",
     "shell.execute_reply": "2021-09-25T11:34:02.710693Z",
     "shell.execute_reply.started": "2021-09-25T11:34:02.702752Z"
    }
   },
   "outputs": [],
   "source": [
    "DecisionTreeClassifierScore = tree.score(X_test,y_test)\n",
    "print(\"Accuracy obtained by Decision Tree Classifier :\", DecisionTreeClassifierScore*100)"
   ]
  },
  {
   "cell_type": "code",
   "execution_count": null,
   "metadata": {
    "execution": {
     "iopub.execute_input": "2021-09-25T11:34:02.713966Z",
     "iopub.status.busy": "2021-09-25T11:34:02.713576Z",
     "iopub.status.idle": "2021-09-25T11:34:02.997929Z",
     "shell.execute_reply": "2021-09-25T11:34:02.996514Z",
     "shell.execute_reply.started": "2021-09-25T11:34:02.713931Z"
    }
   },
   "outputs": [],
   "source": [
    "y_pred_tree = tree.predict(X_test)\n",
    "cf_matrix = confusion_matrix(y_test, y_pred_tree)\n",
    "sns.heatmap(cf_matrix, annot=True, cmap=\"Blues_r\")\n",
    "plt.title(\"Confusion Metrix for Decision Tree Classifier\", fontsize=14, fontname=\"Helvetica\", y=1.03);"
   ]
  },
  {
   "cell_type": "code",
   "execution_count": null,
   "metadata": {
    "execution": {
     "iopub.execute_input": "2021-09-25T11:34:03.000185Z",
     "iopub.status.busy": "2021-09-25T11:34:02.999725Z",
     "iopub.status.idle": "2021-09-25T11:34:03.01395Z",
     "shell.execute_reply": "2021-09-25T11:34:03.012506Z",
     "shell.execute_reply.started": "2021-09-25T11:34:03.000138Z"
    }
   },
   "outputs": [],
   "source": [
    "print(metrics.classification_report(y_test, y_pred_tree));"
   ]
  },
  {
   "cell_type": "markdown",
   "metadata": {},
   "source": [
    "## CatBoost Classifier"
   ]
  },
  {
   "cell_type": "code",
   "execution_count": null,
   "metadata": {
    "execution": {
     "iopub.execute_input": "2021-09-25T11:34:03.017047Z",
     "iopub.status.busy": "2021-09-25T11:34:03.01646Z",
     "iopub.status.idle": "2021-09-25T11:34:03.401103Z",
     "shell.execute_reply": "2021-09-25T11:34:03.399986Z",
     "shell.execute_reply.started": "2021-09-25T11:34:03.016999Z"
    }
   },
   "outputs": [],
   "source": [
    "from catboost import CatBoostClassifier\n",
    "cat = CatBoostClassifier(iterations=10)\n",
    "cat.fit(X_train, y_train);"
   ]
  },
  {
   "cell_type": "code",
   "execution_count": null,
   "metadata": {
    "execution": {
     "iopub.execute_input": "2021-09-25T11:34:03.403156Z",
     "iopub.status.busy": "2021-09-25T11:34:03.402566Z",
     "iopub.status.idle": "2021-09-25T11:34:03.412762Z",
     "shell.execute_reply": "2021-09-25T11:34:03.410805Z",
     "shell.execute_reply.started": "2021-09-25T11:34:03.40311Z"
    }
   },
   "outputs": [],
   "source": [
    "CatBoostClassifierScore = cat.score(X_test,y_test)\n",
    "print(\"Accuracy obtained by CatBoost Classifier model:\",CatBoostClassifierScore*100)"
   ]
  },
  {
   "cell_type": "code",
   "execution_count": null,
   "metadata": {
    "execution": {
     "iopub.execute_input": "2021-09-25T11:34:03.414627Z",
     "iopub.status.busy": "2021-09-25T11:34:03.414067Z",
     "iopub.status.idle": "2021-09-25T11:34:03.717298Z",
     "shell.execute_reply": "2021-09-25T11:34:03.715899Z",
     "shell.execute_reply.started": "2021-09-25T11:34:03.414579Z"
    }
   },
   "outputs": [],
   "source": [
    "# Confusion matrix\n",
    "y_pred_cat = cat.predict(X_test)\n",
    "cf_matrix = confusion_matrix(y_test, y_pred_cat)\n",
    "sns.heatmap(cf_matrix, annot=True, cmap=\"Blues_r\")\n",
    "plt.title(\"Confusion Matrix for CatBoost Classifier\", fontsize=14, fontname=\"Helvetica\", y=1.03);"
   ]
  },
  {
   "cell_type": "code",
   "execution_count": null,
   "metadata": {
    "execution": {
     "iopub.execute_input": "2021-09-25T11:34:03.719381Z",
     "iopub.status.busy": "2021-09-25T11:34:03.718988Z",
     "iopub.status.idle": "2021-09-25T11:34:03.730875Z",
     "shell.execute_reply": "2021-09-25T11:34:03.729591Z",
     "shell.execute_reply.started": "2021-09-25T11:34:03.719344Z"
    }
   },
   "outputs": [],
   "source": [
    "# Classification Report of CatBoost Classifier\n",
    "\n",
    "print(metrics.classification_report(y_test, y_pred_cat))"
   ]
  },
  {
   "cell_type": "markdown",
   "metadata": {},
   "source": [
    "## Gradient Boosting Classifier"
   ]
  },
  {
   "cell_type": "code",
   "execution_count": null,
   "metadata": {
    "execution": {
     "iopub.execute_input": "2021-09-25T11:34:03.733321Z",
     "iopub.status.busy": "2021-09-25T11:34:03.732895Z",
     "iopub.status.idle": "2021-09-25T11:34:03.948006Z",
     "shell.execute_reply": "2021-09-25T11:34:03.946753Z",
     "shell.execute_reply.started": "2021-09-25T11:34:03.733253Z"
    }
   },
   "outputs": [],
   "source": [
    "from sklearn.ensemble import GradientBoostingClassifier\n",
    "gb = GradientBoostingClassifier()\n",
    "gb.fit(X_train, y_train)"
   ]
  },
  {
   "cell_type": "code",
   "execution_count": null,
   "metadata": {
    "execution": {
     "iopub.execute_input": "2021-09-25T11:34:03.949885Z",
     "iopub.status.busy": "2021-09-25T11:34:03.949536Z",
     "iopub.status.idle": "2021-09-25T11:34:03.959455Z",
     "shell.execute_reply": "2021-09-25T11:34:03.957923Z",
     "shell.execute_reply.started": "2021-09-25T11:34:03.949849Z"
    }
   },
   "outputs": [],
   "source": [
    "GradientBoostingClassifierScore = gb.score(X_test,y_test)\n",
    "print(\"Accuracy obtained by Gradient Boosting Classifier model:\",GradientBoostingClassifierScore*100)"
   ]
  },
  {
   "cell_type": "code",
   "execution_count": null,
   "metadata": {
    "execution": {
     "iopub.execute_input": "2021-09-25T11:34:03.962524Z",
     "iopub.status.busy": "2021-09-25T11:34:03.961665Z",
     "iopub.status.idle": "2021-09-25T11:34:04.255454Z",
     "shell.execute_reply": "2021-09-25T11:34:04.254452Z",
     "shell.execute_reply.started": "2021-09-25T11:34:03.962458Z"
    }
   },
   "outputs": [],
   "source": [
    "# Confusion matrix\n",
    "y_pred_gb = gb.predict(X_test)\n",
    "cf_matrix = confusion_matrix(y_test, y_pred_gb)\n",
    "sns.heatmap(cf_matrix, annot=True, cmap=\"Blues_r\")\n",
    "plt.title(\"Confusion Matrix for Gradient Boosting Classifier\", fontsize=14, fontname=\"Helvetica\", y=1.03);"
   ]
  },
  {
   "cell_type": "code",
   "execution_count": null,
   "metadata": {
    "execution": {
     "iopub.execute_input": "2021-09-25T11:34:04.257292Z",
     "iopub.status.busy": "2021-09-25T11:34:04.256768Z",
     "iopub.status.idle": "2021-09-25T11:34:04.268043Z",
     "shell.execute_reply": "2021-09-25T11:34:04.26682Z",
     "shell.execute_reply.started": "2021-09-25T11:34:04.257223Z"
    }
   },
   "outputs": [],
   "source": [
    "# Classification Report of Gradient Boosting Classifier\n",
    "\n",
    "print(metrics.classification_report(y_test, y_pred_gb))"
   ]
  },
  {
   "cell_type": "code",
   "execution_count": null,
   "metadata": {
    "_kg_hide-input": false,
    "execution": {
     "iopub.execute_input": "2021-09-25T11:35:24.44125Z",
     "iopub.status.busy": "2021-09-25T11:35:24.440876Z",
     "iopub.status.idle": "2021-09-25T11:35:24.659988Z",
     "shell.execute_reply": "2021-09-25T11:35:24.659182Z",
     "shell.execute_reply.started": "2021-09-25T11:35:24.44122Z"
    }
   },
   "outputs": [],
   "source": [
    "plt.style.use(\"seaborn\")\n",
    "\n",
    "x = [\"LogisticRegression\", \n",
    "     \"Decision Tree Classifier\", \n",
    "     \"RandomForestClassifier\", \n",
    "     \"KNeighborsClassifier\", \n",
    "     \"CatBoost Classifier\", \n",
    "     \"Gradient Boosting Classifier\"]\n",
    "\n",
    "y = [LogisticRegressionScore, \n",
    "     DecisionTreeClassifierScore, \n",
    "     RandomForestClassifierScore, \n",
    "     KNeighborsClassifierScore, \n",
    "     CatBoostClassifierScore, \n",
    "     GradientBoostingClassifierScore]\n",
    "\n",
    "fig, ax = plt.subplots(figsize=(10,5))\n",
    "sns.barplot(x=x,y=y, palette=\"Blues_r\");\n",
    "plt.ylabel(\"Model Accuracy\")\n",
    "plt.xticks(rotation=40)\n",
    "plt.title(\"Model Comparison - Model Accuracy\", fontsize=14, fontname=\"Helvetica\", y=1.03);"
   ]
  },
  {
   "cell_type": "markdown",
   "metadata": {},
   "source": [
    "* `Gradient Boosting Classifier` and `Random Forest Regression` perform best on the test set."
   ]
  },
  {
   "cell_type": "markdown",
   "metadata": {},
   "source": [
    "## Hyperparameter Tuning on Random Forest Classifier"
   ]
  },
  {
   "cell_type": "code",
   "execution_count": null,
   "metadata": {
    "execution": {
     "iopub.execute_input": "2021-09-25T11:34:04.519122Z",
     "iopub.status.busy": "2021-09-25T11:34:04.518771Z",
     "iopub.status.idle": "2021-09-25T11:34:04.52729Z",
     "shell.execute_reply": "2021-09-25T11:34:04.52574Z",
     "shell.execute_reply.started": "2021-09-25T11:34:04.519087Z"
    }
   },
   "outputs": [],
   "source": [
    "from sklearn.model_selection import GridSearchCV\n",
    "\n",
    "param_grid = {\n",
    "    'bootstrap': [True],\n",
    "    'max_depth': [80, 90, 100, 110],\n",
    "    'max_features': [2, 3],\n",
    "    'min_samples_leaf': [3, 4, 5],\n",
    "    'min_samples_split': [8, 10, 12],\n",
    "    'criterion' : ['gini', 'entropy'],\n",
    "    'n_estimators': [100, 200, 300, 1000]\n",
    "}\n",
    "\n",
    "grid_search_rfc = GridSearchCV(estimator = rfc, \n",
    "                           param_grid = param_grid, \n",
    "                           cv = 3, n_jobs = -1, verbose = 2)"
   ]
  },
  {
   "cell_type": "code",
   "execution_count": null,
   "metadata": {
    "execution": {
     "iopub.execute_input": "2021-09-25T11:34:04.529499Z",
     "iopub.status.busy": "2021-09-25T11:34:04.529098Z",
     "iopub.status.idle": "2021-09-25T11:34:08.358495Z",
     "shell.execute_reply": "2021-09-25T11:34:08.354969Z",
     "shell.execute_reply.started": "2021-09-25T11:34:04.529459Z"
    }
   },
   "outputs": [],
   "source": [
    "grid_search_rfc.fit(X_train, y_train)"
   ]
  },
  {
   "cell_type": "code",
   "execution_count": null,
   "metadata": {
    "execution": {
     "iopub.status.busy": "2021-09-25T11:34:08.360208Z",
     "iopub.status.idle": "2021-09-25T11:34:08.360767Z"
    }
   },
   "outputs": [],
   "source": [
    "grid_search_rfc.best_params_"
   ]
  },
  {
   "cell_type": "code",
   "execution_count": null,
   "metadata": {
    "execution": {
     "iopub.status.busy": "2021-09-25T11:34:08.362306Z",
     "iopub.status.idle": "2021-09-25T11:34:08.36294Z"
    }
   },
   "outputs": [],
   "source": [
    "grid_search_rfc.best_score_"
   ]
  },
  {
   "cell_type": "code",
   "execution_count": null,
   "metadata": {
    "execution": {
     "iopub.status.busy": "2021-09-25T11:34:08.364556Z",
     "iopub.status.idle": "2021-09-25T11:34:08.365271Z"
    }
   },
   "outputs": [],
   "source": [
    "grid_search_rfc_predict = grid_search_rfc.predict(X_test)"
   ]
  },
  {
   "cell_type": "code",
   "execution_count": null,
   "metadata": {
    "execution": {
     "iopub.status.busy": "2021-09-25T11:34:08.366764Z",
     "iopub.status.idle": "2021-09-25T11:34:08.367433Z"
    }
   },
   "outputs": [],
   "source": [
    "print('Improvement in Random Forest Classifier after GridSearchCV: {:0.2f}%.'.format(100 * (grid_search_rfc.best_score_ - RandomForestClassifierScore) / RandomForestClassifierScore))"
   ]
  },
  {
   "cell_type": "code",
   "execution_count": null,
   "metadata": {
    "execution": {
     "iopub.status.busy": "2021-09-25T11:34:08.369216Z",
     "iopub.status.idle": "2021-09-25T11:34:08.36974Z"
    }
   },
   "outputs": [],
   "source": [
    "# Comparing the results after the improvement in Random Forest Classifier\n",
    "\n",
    "plt.style.use(\"seaborn\")\n",
    "\n",
    "x = [\"Random Forest Classifier\",  \n",
    "     \"GridSearch-RandomForestClassifier\"]\n",
    "\n",
    "y = [RandomForestClassifierScore,  \n",
    "     grid_search_rfc.best_score_]\n",
    "\n",
    "fig, ax = plt.subplots(figsize=(5,5))\n",
    "sns.barplot(x=x,y=y, palette=\"Blues_r\");\n",
    "plt.ylabel(\"Accuracy\")\n",
    "plt.xticks(rotation=45)\n",
    "plt.title(\"Random Forest Classifier  vs  GridSearched Random Forest Classifier\", fontsize=14, fontname=\"Helvetica\", y=1.03);"
   ]
  },
  {
   "cell_type": "code",
   "execution_count": null,
   "metadata": {
    "execution": {
     "iopub.status.busy": "2021-09-25T11:34:08.370913Z",
     "iopub.status.idle": "2021-09-25T11:34:08.371372Z"
    }
   },
   "outputs": [],
   "source": [
    "# Comparing the GridSearch-Random Forest Regression and Gradient Boosting Classifier \n",
    "\n",
    "plt.style.use(\"seaborn\")\n",
    "\n",
    "x = [\"Gradient Boosting Classifier\",\n",
    "     \"GridSearch-Random Forest Regression\"]\n",
    "\n",
    "y = [GradientBoostingClassifierScore,\n",
    "     grid_search_rfc.best_score_]\n",
    "\n",
    "fig, ax = plt.subplots(figsize=(5,5))\n",
    "sns.barplot(x=x,y=y, palette=\"Blues_r\");\n",
    "plt.ylabel(\"Accuracy\")\n",
    "plt.xticks(rotation=30)\n",
    "plt.title(\"Gradient Boosting Classifier  vs  GridSearched Random Forest Regression\", fontsize=14, fontname=\"Helvetica\", y=1.03);"
   ]
  },
  {
   "cell_type": "markdown",
   "metadata": {},
   "source": [
    "### After Hyperparameter tuning, the Random Forest Regression model performs better than the Gradient Boosting Classifier which was not the case before!"
   ]
  },
  {
   "cell_type": "code",
   "execution_count": null,
   "metadata": {
    "execution": {
     "iopub.status.busy": "2021-09-25T11:34:08.372566Z",
     "iopub.status.idle": "2021-09-25T11:34:08.372987Z"
    }
   },
   "outputs": [],
   "source": [
    "# Classification Report of GridSearch-RandomForestRegression\n",
    "\n",
    "print(classification_report(y_test, grid_search_rfc_predict))"
   ]
  }
 ],
 "metadata": {
  "kernelspec": {
   "display_name": "Python 3 (ipykernel)",
   "language": "python",
   "name": "python3"
  },
  "language_info": {
   "codemirror_mode": {
    "name": "ipython",
    "version": 3
   },
   "file_extension": ".py",
   "mimetype": "text/x-python",
   "name": "python",
   "nbconvert_exporter": "python",
   "pygments_lexer": "ipython3",
   "version": "3.9.9"
  }
 },
 "nbformat": 4,
 "nbformat_minor": 4
}
